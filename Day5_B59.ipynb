{
 "cells": [
  {
   "cell_type": "code",
   "execution_count": null,
   "id": "aa24eb62",
   "metadata": {},
   "outputs": [],
   "source": [
    "Organising the list datatype"
   ]
  },
  {
   "cell_type": "code",
   "execution_count": 7,
   "id": "21c0b217",
   "metadata": {},
   "outputs": [],
   "source": [
    "students = ['rajesh', 'naved', 'vindhya', 'asna', 'laiba', 'radhika', 'nikhil'] "
   ]
  },
  {
   "cell_type": "code",
   "execution_count": 3,
   "id": "a0e4b9d0",
   "metadata": {},
   "outputs": [
    {
     "name": "stdout",
     "output_type": "stream",
     "text": [
      "{'rajesh', 'laiba', 'naved', 'radhika', 'nikhil', 'vindhya', 'asna'}\n"
     ]
    }
   ],
   "source": [
    "print(students)"
   ]
  },
  {
   "cell_type": "code",
   "execution_count": null,
   "id": "2a43f6c8",
   "metadata": {},
   "outputs": [],
   "source": [
    "#req: I want tp print naved, what index to use?"
   ]
  },
  {
   "cell_type": "code",
   "execution_count": 8,
   "id": "b6bc62eb",
   "metadata": {},
   "outputs": [
    {
     "name": "stdout",
     "output_type": "stream",
     "text": [
      "naved\n"
     ]
    }
   ],
   "source": [
    "print(students[1])"
   ]
  },
  {
   "cell_type": "code",
   "execution_count": 9,
   "id": "66e7c2aa",
   "metadata": {},
   "outputs": [
    {
     "name": "stdout",
     "output_type": "stream",
     "text": [
      "Naved\n"
     ]
    }
   ],
   "source": [
    "print(students[1].title())"
   ]
  },
  {
   "cell_type": "code",
   "execution_count": null,
   "id": "d49744f7",
   "metadata": {},
   "outputs": [],
   "source": []
  },
  {
   "cell_type": "code",
   "execution_count": 10,
   "id": "de70954b",
   "metadata": {},
   "outputs": [],
   "source": [
    "cars = [ 'kia', 'audi', 'ciaz', 'benz', 'suzuki', 'bmw']"
   ]
  },
  {
   "cell_type": "code",
   "execution_count": 11,
   "id": "d9e986f2",
   "metadata": {},
   "outputs": [
    {
     "name": "stdout",
     "output_type": "stream",
     "text": [
      "['kia', 'audi', 'ciaz', 'benz', 'suzuki', 'bmw']\n"
     ]
    }
   ],
   "source": [
    "print (cars)"
   ]
  },
  {
   "cell_type": "code",
   "execution_count": null,
   "id": "9f76fe34",
   "metadata": {},
   "outputs": [],
   "source": [
    "#req: I want to arrange the above list in aplhabetical order"
   ]
  },
  {
   "cell_type": "code",
   "execution_count": null,
   "id": "9dbb94b9",
   "metadata": {},
   "outputs": [],
   "source": [
    "# two approaches:\n",
    "1. temp approach------ sorted----- we can retain the original order\n",
    "2. permenant approach---- sort-----changes are applied permanently"
   ]
  },
  {
   "cell_type": "code",
   "execution_count": 12,
   "id": "33e3a3bc",
   "metadata": {},
   "outputs": [
    {
     "name": "stdout",
     "output_type": "stream",
     "text": [
      "['audi', 'benz', 'bmw', 'ciaz', 'kia', 'suzuki']\n"
     ]
    }
   ],
   "source": [
    "print(sorted(cars))"
   ]
  },
  {
   "cell_type": "code",
   "execution_count": null,
   "id": "e4f9b029",
   "metadata": {},
   "outputs": [],
   "source": [
    "benz and bmw----- in first similar letter, second letter is considered."
   ]
  },
  {
   "cell_type": "code",
   "execution_count": 13,
   "id": "20e1a821",
   "metadata": {},
   "outputs": [
    {
     "name": "stdout",
     "output_type": "stream",
     "text": [
      "['kia', 'audi', 'ciaz', 'benz', 'suzuki', 'bmw']\n"
     ]
    }
   ],
   "source": [
    "print(cars)"
   ]
  },
  {
   "cell_type": "code",
   "execution_count": null,
   "id": "8d8ec73c",
   "metadata": {},
   "outputs": [],
   "source": []
  },
  {
   "cell_type": "code",
   "execution_count": null,
   "id": "f949a6f5",
   "metadata": {},
   "outputs": [],
   "source": [
    "permenant approach"
   ]
  },
  {
   "cell_type": "code",
   "execution_count": 14,
   "id": "4d56272e",
   "metadata": {},
   "outputs": [],
   "source": [
    "cars.sort()"
   ]
  },
  {
   "cell_type": "code",
   "execution_count": 15,
   "id": "26323304",
   "metadata": {},
   "outputs": [
    {
     "name": "stdout",
     "output_type": "stream",
     "text": [
      "['audi', 'benz', 'bmw', 'ciaz', 'kia', 'suzuki']\n"
     ]
    }
   ],
   "source": [
    "print(cars)"
   ]
  },
  {
   "cell_type": "code",
   "execution_count": 16,
   "id": "b3d830a2",
   "metadata": {},
   "outputs": [
    {
     "name": "stdout",
     "output_type": "stream",
     "text": [
      "['audi', 'benz', 'bmw', 'ciaz', 'kia', 'suzuki']\n"
     ]
    }
   ],
   "source": [
    "print(cars)"
   ]
  },
  {
   "cell_type": "code",
   "execution_count": null,
   "id": "80a08e62",
   "metadata": {},
   "outputs": [],
   "source": [
    "sorted permenantly."
   ]
  },
  {
   "cell_type": "code",
   "execution_count": null,
   "id": "d4c03a95",
   "metadata": {},
   "outputs": [],
   "source": [
    "Interview question- what is the difference between sorted and sort in a list?"
   ]
  },
  {
   "cell_type": "code",
   "execution_count": null,
   "id": "065953f0",
   "metadata": {},
   "outputs": [],
   "source": []
  },
  {
   "cell_type": "code",
   "execution_count": null,
   "id": "7128aa7d",
   "metadata": {},
   "outputs": [],
   "source": [
    "#req: I want to print the list in reverse order"
   ]
  },
  {
   "cell_type": "code",
   "execution_count": 17,
   "id": "201ad22a",
   "metadata": {},
   "outputs": [
    {
     "name": "stdout",
     "output_type": "stream",
     "text": [
      "['audi', 'benz', 'bmw', 'ciaz', 'kia', 'suzuki']\n"
     ]
    }
   ],
   "source": [
    "print(cars)"
   ]
  },
  {
   "cell_type": "code",
   "execution_count": 18,
   "id": "4de8c079",
   "metadata": {},
   "outputs": [],
   "source": [
    "cars.reverse()"
   ]
  },
  {
   "cell_type": "code",
   "execution_count": 19,
   "id": "cfa0a828",
   "metadata": {},
   "outputs": [
    {
     "name": "stdout",
     "output_type": "stream",
     "text": [
      "['suzuki', 'kia', 'ciaz', 'bmw', 'benz', 'audi']\n"
     ]
    }
   ],
   "source": [
    "print(cars)"
   ]
  },
  {
   "cell_type": "code",
   "execution_count": null,
   "id": "b20c53da",
   "metadata": {},
   "outputs": [],
   "source": []
  },
  {
   "cell_type": "code",
   "execution_count": null,
   "id": "2d603c99",
   "metadata": {},
   "outputs": [],
   "source": [
    "#req: I want to count the no. of elements present in the list"
   ]
  },
  {
   "cell_type": "code",
   "execution_count": 20,
   "id": "678a25e1",
   "metadata": {},
   "outputs": [
    {
     "data": {
      "text/plain": [
       "6"
      ]
     },
     "execution_count": 20,
     "metadata": {},
     "output_type": "execute_result"
    }
   ],
   "source": [
    "len(cars)"
   ]
  },
  {
   "cell_type": "code",
   "execution_count": null,
   "id": "608e3c08",
   "metadata": {},
   "outputs": [],
   "source": []
  },
  {
   "cell_type": "code",
   "execution_count": null,
   "id": "ff383778",
   "metadata": {},
   "outputs": [],
   "source": [
    "Slicing of List datatype-"
   ]
  },
  {
   "cell_type": "code",
   "execution_count": 21,
   "id": "8b92863d",
   "metadata": {},
   "outputs": [
    {
     "name": "stdout",
     "output_type": "stream",
     "text": [
      "['rajesh', 'naved', 'vindhya', 'asna', 'laiba', 'radhika', 'nikhil']\n"
     ]
    }
   ],
   "source": [
    "print(students)"
   ]
  },
  {
   "cell_type": "code",
   "execution_count": null,
   "id": "f9c1c13b",
   "metadata": {},
   "outputs": [],
   "source": [
    "#general syntax of slicing : "
   ]
  },
  {
   "cell_type": "code",
   "execution_count": null,
   "id": "b487f3be",
   "metadata": {},
   "outputs": [],
   "source": [
    "print(list[startvalue: stop value : step count])"
   ]
  },
  {
   "cell_type": "code",
   "execution_count": null,
   "id": "4cf2d832",
   "metadata": {},
   "outputs": [],
   "source": [
    "NOTE: stop value is always exclusive. + 1 to include the stop value"
   ]
  },
  {
   "cell_type": "code",
   "execution_count": null,
   "id": "cd1b96da",
   "metadata": {},
   "outputs": [],
   "source": [
    "#req: I want to include vindhya in a list"
   ]
  },
  {
   "cell_type": "code",
   "execution_count": 22,
   "id": "22598e81",
   "metadata": {},
   "outputs": [
    {
     "name": "stdout",
     "output_type": "stream",
     "text": [
      "['vindhya']\n"
     ]
    }
   ],
   "source": [
    "print(students[2:3])"
   ]
  },
  {
   "cell_type": "code",
   "execution_count": null,
   "id": "f6130421",
   "metadata": {},
   "outputs": [],
   "source": [
    "I want to include Asna as well, hence + 1"
   ]
  },
  {
   "cell_type": "code",
   "execution_count": 23,
   "id": "62ec5c92",
   "metadata": {},
   "outputs": [
    {
     "name": "stdout",
     "output_type": "stream",
     "text": [
      "['vindhya', 'asna']\n"
     ]
    }
   ],
   "source": [
    "print (students[2:4])"
   ]
  },
  {
   "cell_type": "code",
   "execution_count": 24,
   "id": "c1881555",
   "metadata": {},
   "outputs": [
    {
     "name": "stdout",
     "output_type": "stream",
     "text": [
      "['laiba', 'radhika']\n"
     ]
    }
   ],
   "source": [
    "print (students[4:6])"
   ]
  },
  {
   "cell_type": "code",
   "execution_count": null,
   "id": "b8240c73",
   "metadata": {},
   "outputs": [],
   "source": []
  },
  {
   "cell_type": "code",
   "execution_count": null,
   "id": "f5943438",
   "metadata": {},
   "outputs": [],
   "source": [
    "#req: add alternate elements from list"
   ]
  },
  {
   "cell_type": "code",
   "execution_count": 25,
   "id": "2b9b07a0",
   "metadata": {},
   "outputs": [
    {
     "name": "stdout",
     "output_type": "stream",
     "text": [
      "['rajesh', 'vindhya', 'laiba', 'nikhil']\n"
     ]
    }
   ],
   "source": [
    "print(students[0:8:2]) 2 avoids every second element"
   ]
  },
  {
   "cell_type": "code",
   "execution_count": 26,
   "id": "cba55f2a",
   "metadata": {},
   "outputs": [
    {
     "name": "stdout",
     "output_type": "stream",
     "text": [
      "['rajesh', 'asna', 'nikhil']\n"
     ]
    }
   ],
   "source": [
    "print (students[0:8:3])"
   ]
  }
 ],
 "metadata": {
  "kernelspec": {
   "display_name": "Python 3 (ipykernel)",
   "language": "python",
   "name": "python3"
  },
  "language_info": {
   "codemirror_mode": {
    "name": "ipython",
    "version": 3
   },
   "file_extension": ".py",
   "mimetype": "text/x-python",
   "name": "python",
   "nbconvert_exporter": "python",
   "pygments_lexer": "ipython3",
   "version": "3.9.12"
  }
 },
 "nbformat": 4,
 "nbformat_minor": 5
}
