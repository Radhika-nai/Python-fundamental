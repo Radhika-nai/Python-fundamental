{
 "cells": [
  {
   "cell_type": "code",
   "execution_count": null,
   "id": "1c6ee69f",
   "metadata": {},
   "outputs": [],
   "source": [
    "continuation with strings :\n"
   ]
  },
  {
   "cell_type": "code",
   "execution_count": null,
   "id": "eb500af2",
   "metadata": {},
   "outputs": [],
   "source": [
    "Introduction to strings-"
   ]
  },
  {
   "cell_type": "code",
   "execution_count": 1,
   "id": "ddc72c60",
   "metadata": {},
   "outputs": [
    {
     "name": "stdout",
     "output_type": "stream",
     "text": [
      "Radhika\n"
     ]
    }
   ],
   "source": [
    "name= \"Radhika\"\n",
    "print (name)"
   ]
  },
  {
   "cell_type": "code",
   "execution_count": null,
   "id": "0e31391d",
   "metadata": {},
   "outputs": [],
   "source": [
    "how to know the datatype?"
   ]
  },
  {
   "cell_type": "code",
   "execution_count": 2,
   "id": "23d429d7",
   "metadata": {},
   "outputs": [
    {
     "data": {
      "text/plain": [
       "str"
      ]
     },
     "execution_count": 2,
     "metadata": {},
     "output_type": "execute_result"
    }
   ],
   "source": [
    "type(name)"
   ]
  },
  {
   "cell_type": "raw",
   "id": "1f475662",
   "metadata": {},
   "source": [
    "string ----- str"
   ]
  },
  {
   "cell_type": "code",
   "execution_count": null,
   "id": "a92f8c9f",
   "metadata": {},
   "outputs": [],
   "source": []
  },
  {
   "cell_type": "code",
   "execution_count": 3,
   "id": "17e68d59",
   "metadata": {},
   "outputs": [
    {
     "name": "stdout",
     "output_type": "stream",
     "text": [
      "radhika\n"
     ]
    }
   ],
   "source": [
    "name1=\"radhika\"\n",
    "print (name1)"
   ]
  },
  {
   "cell_type": "code",
   "execution_count": 4,
   "id": "72aac999",
   "metadata": {},
   "outputs": [
    {
     "data": {
      "text/plain": [
       "str"
      ]
     },
     "execution_count": 4,
     "metadata": {},
     "output_type": "execute_result"
    }
   ],
   "source": [
    "type(name1)"
   ]
  },
  {
   "cell_type": "code",
   "execution_count": null,
   "id": "6a61db3b",
   "metadata": {},
   "outputs": [],
   "source": []
  },
  {
   "cell_type": "code",
   "execution_count": 6,
   "id": "3c15a577",
   "metadata": {},
   "outputs": [
    {
     "name": "stdout",
     "output_type": "stream",
     "text": [
      " radhika nair\n"
     ]
    }
   ],
   "source": [
    "fullname= \" radhika nair\"\n",
    "print (fullname)"
   ]
  },
  {
   "cell_type": "code",
   "execution_count": 7,
   "id": "f50e9ed9",
   "metadata": {},
   "outputs": [
    {
     "name": "stdout",
     "output_type": "stream",
     "text": [
      " Radhika Nair\n"
     ]
    }
   ],
   "source": [
    "print(fullname.title())"
   ]
  },
  {
   "cell_type": "code",
   "execution_count": null,
   "id": "2c8b994f",
   "metadata": {},
   "outputs": [],
   "source": [
    "The above instruction for capiltalize the first letters"
   ]
  },
  {
   "cell_type": "code",
   "execution_count": null,
   "id": "974740e0",
   "metadata": {},
   "outputs": [],
   "source": [
    "#req : i want to get fullname in all capital letters-"
   ]
  },
  {
   "cell_type": "code",
   "execution_count": 8,
   "id": "0c764e6c",
   "metadata": {},
   "outputs": [
    {
     "name": "stdout",
     "output_type": "stream",
     "text": [
      " RADHIKA NAIR\n"
     ]
    }
   ],
   "source": [
    "print(fullname.upper())"
   ]
  },
  {
   "cell_type": "code",
   "execution_count": null,
   "id": "2894ab40",
   "metadata": {},
   "outputs": [],
   "source": []
  },
  {
   "cell_type": "code",
   "execution_count": null,
   "id": "e77938f2",
   "metadata": {},
   "outputs": [],
   "source": [
    "#req : I want to get fullname is small case letters-"
   ]
  },
  {
   "cell_type": "code",
   "execution_count": 9,
   "id": "222505f4",
   "metadata": {},
   "outputs": [
    {
     "name": "stdout",
     "output_type": "stream",
     "text": [
      " radhika nair\n"
     ]
    }
   ],
   "source": [
    "print(fullname.lower())"
   ]
  },
  {
   "cell_type": "code",
   "execution_count": null,
   "id": "cb6af5c0",
   "metadata": {},
   "outputs": [],
   "source": [
    "Introduction to f strings :"
   ]
  },
  {
   "cell_type": "code",
   "execution_count": null,
   "id": "55580c19",
   "metadata": {},
   "outputs": [],
   "source": [
    "1. General syntax (formula) for f strings:"
   ]
  },
  {
   "cell_type": "code",
   "execution_count": null,
   "id": "5aa6870f",
   "metadata": {},
   "outputs": [],
   "source": [
    "f\" custom message {placeholder1} {placeholder2}......{placeholder...n}----general formula"
   ]
  },
  {
   "cell_type": "code",
   "execution_count": null,
   "id": "472044d7",
   "metadata": {},
   "outputs": [],
   "source": []
  },
  {
   "cell_type": "code",
   "execution_count": null,
   "id": "a04a68e5",
   "metadata": {},
   "outputs": [],
   "source": []
  },
  {
   "cell_type": "code",
   "execution_count": null,
   "id": "8d4bdf8b",
   "metadata": {},
   "outputs": [],
   "source": [
    "#req :  get the full name (individual things joined)"
   ]
  },
  {
   "cell_type": "code",
   "execution_count": null,
   "id": "d1751022",
   "metadata": {},
   "outputs": [],
   "source": [
    "firstname = 'radhika'\n",
    "lastname = 'nair'"
   ]
  },
  {
   "cell_type": "code",
   "execution_count": 31,
   "id": "c8f26a41",
   "metadata": {},
   "outputs": [
    {
     "ename": "NameError",
     "evalue": "name 'firstname' is not defined",
     "output_type": "error",
     "traceback": [
      "\u001b[1;31m---------------------------------------------------------------------------\u001b[0m",
      "\u001b[1;31mNameError\u001b[0m                                 Traceback (most recent call last)",
      "Input \u001b[1;32mIn [31]\u001b[0m, in \u001b[0;36m<cell line: 1>\u001b[1;34m()\u001b[0m\n\u001b[1;32m----> 1\u001b[0m full_name \u001b[38;5;241m=\u001b[39m \u001b[38;5;124mf\u001b[39m\u001b[38;5;124m\"\u001b[39m\u001b[38;5;132;01m{\u001b[39;00mfirstname\u001b[38;5;132;01m}\u001b[39;00m\u001b[38;5;124m \u001b[39m\u001b[38;5;132;01m{\u001b[39;00mlastname\u001b[38;5;132;01m}\u001b[39;00m\u001b[38;5;124m\"\u001b[39m\n\u001b[0;32m      2\u001b[0m \u001b[38;5;28mprint\u001b[39m(full_name)\n",
      "\u001b[1;31mNameError\u001b[0m: name 'firstname' is not defined"
     ]
    }
   ],
   "source": [
    "full_name = f\"{firstname} {lastname}\"\n",
    "print(full_name)"
   ]
  },
  {
   "cell_type": "code",
   "execution_count": null,
   "id": "3d5377ef",
   "metadata": {},
   "outputs": [],
   "source": []
  },
  {
   "cell_type": "code",
   "execution_count": null,
   "id": "dd8e23b5",
   "metadata": {},
   "outputs": [],
   "source": [
    "Adding whitespaces to strings:"
   ]
  },
  {
   "cell_type": "code",
   "execution_count": null,
   "id": "c6734277",
   "metadata": {},
   "outputs": [],
   "source": [
    "#req : aconduced survey and student has to choose fav subject"
   ]
  },
  {
   "cell_type": "code",
   "execution_count": 21,
   "id": "acb8ab36",
   "metadata": {},
   "outputs": [
    {
     "name": "stdout",
     "output_type": "stream",
     "text": [
      "favorite_language:pythonC++javacpascalcobal\n"
     ]
    }
   ],
   "source": [
    "print('favorite_language:pythonC++javacpascalcobal')"
   ]
  },
  {
   "cell_type": "code",
   "execution_count": 22,
   "id": "c8ad6aff",
   "metadata": {},
   "outputs": [
    {
     "name": "stdout",
     "output_type": "stream",
     "text": [
      "favorite_language:\n",
      "python\n",
      "C++\n",
      "java\n",
      "c\n",
      "pascal\n",
      "cobal\n"
     ]
    }
   ],
   "source": [
    "print('favorite_language:\\npython\\nC++\\njava\\nc\\npascal\\ncobal')"
   ]
  },
  {
   "cell_type": "code",
   "execution_count": null,
   "id": "052bfba6",
   "metadata": {},
   "outputs": [],
   "source": [
    "\\n is callled as new line delinker, print will be in  the new line"
   ]
  },
  {
   "cell_type": "code",
   "execution_count": 23,
   "id": "d1d0a23d",
   "metadata": {},
   "outputs": [
    {
     "name": "stdout",
     "output_type": "stream",
     "text": [
      "favorite_language:\n",
      "\tpython\n",
      "\tC++\n",
      "\tjava\n",
      "\tc\n",
      "\tpascal\n",
      "\tcobal\n"
     ]
    }
   ],
   "source": [
    "print ('favorite_language:\\n\\tpython\\n\\tC++\\n\\tjava\\n\\tc\\n\\tpascal\\n\\tcobal')"
   ]
  },
  {
   "cell_type": "code",
   "execution_count": null,
   "id": "16049ea7",
   "metadata": {},
   "outputs": [],
   "source": [
    "\\t is called tab delimiter"
   ]
  },
  {
   "cell_type": "code",
   "execution_count": null,
   "id": "b526e21e",
   "metadata": {},
   "outputs": [],
   "source": []
  },
  {
   "cell_type": "code",
   "execution_count": null,
   "id": "93753918",
   "metadata": {},
   "outputs": [],
   "source": []
  },
  {
   "cell_type": "code",
   "execution_count": null,
   "id": "00895736",
   "metadata": {},
   "outputs": [],
   "source": []
  },
  {
   "cell_type": "code",
   "execution_count": null,
   "id": "fcb07be7",
   "metadata": {},
   "outputs": [],
   "source": []
  },
  {
   "cell_type": "code",
   "execution_count": null,
   "id": "b0a8b36e",
   "metadata": {},
   "outputs": [],
   "source": []
  },
  {
   "cell_type": "code",
   "execution_count": null,
   "id": "7dcdbc9e",
   "metadata": {},
   "outputs": [],
   "source": []
  },
  {
   "cell_type": "code",
   "execution_count": null,
   "id": "7c2b0656",
   "metadata": {},
   "outputs": [],
   "source": []
  },
  {
   "cell_type": "code",
   "execution_count": null,
   "id": "83592da5",
   "metadata": {},
   "outputs": [],
   "source": []
  }
 ],
 "metadata": {
  "kernelspec": {
   "display_name": "Python 3 (ipykernel)",
   "language": "python",
   "name": "python3"
  },
  "language_info": {
   "codemirror_mode": {
    "name": "ipython",
    "version": 3
   },
   "file_extension": ".py",
   "mimetype": "text/x-python",
   "name": "python",
   "nbconvert_exporter": "python",
   "pygments_lexer": "ipython3",
   "version": "3.9.12"
  }
 },
 "nbformat": 4,
 "nbformat_minor": 5
}
