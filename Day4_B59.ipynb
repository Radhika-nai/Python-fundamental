{
 "cells": [
  {
   "cell_type": "code",
   "execution_count": null,
   "id": "81967f9e",
   "metadata": {},
   "outputs": [],
   "source": [
    "introduction to list datatype:"
   ]
  },
  {
   "cell_type": "code",
   "execution_count": null,
   "id": "9f70cc6b",
   "metadata": {},
   "outputs": [],
   "source": [
    "Defination: A list is a collection of items declared in a particular order.\n",
    "Classification: it is classified as mutable datatype.\n",
    "How to declare a list datatype:by using square brackets []"
   ]
  },
  {
   "cell_type": "code",
   "execution_count": 3,
   "id": "e48e30d2",
   "metadata": {},
   "outputs": [],
   "source": [
    "students = ['radhika', 'asna', 'laiba', 'sanuba'] # 0,1,2,3"
   ]
  },
  {
   "cell_type": "code",
   "execution_count": 4,
   "id": "e1ed84e8",
   "metadata": {},
   "outputs": [
    {
     "name": "stdout",
     "output_type": "stream",
     "text": [
      "['radhika', 'asna', 'laiba', 'sanuba']\n"
     ]
    }
   ],
   "source": [
    "print(students)"
   ]
  },
  {
   "cell_type": "code",
   "execution_count": 6,
   "id": "5eef65b3",
   "metadata": {},
   "outputs": [
    {
     "data": {
      "text/plain": [
       "list"
      ]
     },
     "execution_count": 6,
     "metadata": {},
     "output_type": "execute_result"
    }
   ],
   "source": [
    "type(students)"
   ]
  },
  {
   "cell_type": "code",
   "execution_count": null,
   "id": "cf814160",
   "metadata": {},
   "outputs": [],
   "source": []
  },
  {
   "cell_type": "code",
   "execution_count": null,
   "id": "eb08705c",
   "metadata": {},
   "outputs": [],
   "source": [
    "#req How to access the above elements from the list?"
   ]
  },
  {
   "cell_type": "code",
   "execution_count": null,
   "id": "5efdbbf2",
   "metadata": {},
   "outputs": [],
   "source": [
    "Introduction to indexing: 0,1,2,3.........."
   ]
  },
  {
   "cell_type": "code",
   "execution_count": null,
   "id": "0d936626",
   "metadata": {},
   "outputs": [],
   "source": [
    "# req: I want to access sanuba name from the above list, how will i do it?"
   ]
  },
  {
   "cell_type": "code",
   "execution_count": 7,
   "id": "9437d9bf",
   "metadata": {},
   "outputs": [
    {
     "name": "stdout",
     "output_type": "stream",
     "text": [
      "sanuba\n"
     ]
    }
   ],
   "source": [
    "print(students[3])"
   ]
  },
  {
   "cell_type": "code",
   "execution_count": 8,
   "id": "f16effe3",
   "metadata": {},
   "outputs": [
    {
     "name": "stdout",
     "output_type": "stream",
     "text": [
      "laiba\n"
     ]
    }
   ],
   "source": [
    "print(students[2])"
   ]
  },
  {
   "cell_type": "code",
   "execution_count": 10,
   "id": "804431bd",
   "metadata": {},
   "outputs": [
    {
     "name": "stdout",
     "output_type": "stream",
     "text": [
      "Sanuba\n"
     ]
    }
   ],
   "source": [
    "print(students[3].title())"
   ]
  },
  {
   "cell_type": "code",
   "execution_count": null,
   "id": "60719d41",
   "metadata": {},
   "outputs": [],
   "source": [
    "1. How to add new elements to the list?-----append (element added in the last)\n",
    "2. How to modify the elements in list?\n",
    "3. how to delete elements in the list?"
   ]
  },
  {
   "cell_type": "code",
   "execution_count": 11,
   "id": "2a03cd70",
   "metadata": {},
   "outputs": [
    {
     "name": "stdout",
     "output_type": "stream",
     "text": [
      "['radhika', 'asna', 'laiba', 'sanuba']\n"
     ]
    }
   ],
   "source": [
    "print (students)"
   ]
  },
  {
   "cell_type": "code",
   "execution_count": null,
   "id": "9db95337",
   "metadata": {},
   "outputs": [],
   "source": [
    "#req: I want to add Prial in the above list"
   ]
  },
  {
   "cell_type": "code",
   "execution_count": 12,
   "id": "004b4d1a",
   "metadata": {},
   "outputs": [],
   "source": [
    "students.append('prial')"
   ]
  },
  {
   "cell_type": "code",
   "execution_count": 13,
   "id": "4f2e7377",
   "metadata": {},
   "outputs": [
    {
     "name": "stdout",
     "output_type": "stream",
     "text": [
      "['radhika', 'asna', 'laiba', 'sanuba', 'prial']\n"
     ]
    }
   ],
   "source": [
    "print(students)"
   ]
  },
  {
   "cell_type": "code",
   "execution_count": 14,
   "id": "5335d2f1",
   "metadata": {},
   "outputs": [],
   "source": [
    "students.append('riya')"
   ]
  },
  {
   "cell_type": "code",
   "execution_count": 15,
   "id": "de499b91",
   "metadata": {},
   "outputs": [
    {
     "name": "stdout",
     "output_type": "stream",
     "text": [
      "['radhika', 'asna', 'laiba', 'sanuba', 'prial', 'riya']\n"
     ]
    }
   ],
   "source": [
    "print(students)"
   ]
  },
  {
   "cell_type": "code",
   "execution_count": null,
   "id": "c7f580c9",
   "metadata": {},
   "outputs": [],
   "source": [
    "#req: I want to add 'diya' name to 2nd index..."
   ]
  },
  {
   "cell_type": "code",
   "execution_count": 16,
   "id": "76a01f87",
   "metadata": {},
   "outputs": [],
   "source": [
    "students.insert(2,'diya')"
   ]
  },
  {
   "cell_type": "code",
   "execution_count": 17,
   "id": "def11790",
   "metadata": {},
   "outputs": [
    {
     "name": "stdout",
     "output_type": "stream",
     "text": [
      "['radhika', 'asna', 'diya', 'laiba', 'sanuba', 'prial', 'riya']\n"
     ]
    }
   ],
   "source": [
    "print(students)"
   ]
  },
  {
   "cell_type": "code",
   "execution_count": 19,
   "id": "55524f9f",
   "metadata": {},
   "outputs": [
    {
     "name": "stdout",
     "output_type": "stream",
     "text": [
      "diya\n"
     ]
    }
   ],
   "source": [
    "print(students[2])"
   ]
  },
  {
   "cell_type": "code",
   "execution_count": null,
   "id": "ccb49ce3",
   "metadata": {},
   "outputs": [],
   "source": [
    "Interview ques: What is the difference btw append and insert method in list in Python?\n",
    "    append adds element in the last whereas insert adds element in between"
   ]
  },
  {
   "cell_type": "code",
   "execution_count": null,
   "id": "15c49902",
   "metadata": {},
   "outputs": [],
   "source": []
  },
  {
   "cell_type": "code",
   "execution_count": null,
   "id": "29377f7d",
   "metadata": {},
   "outputs": [],
   "source": [
    "#req: how to modify the required list"
   ]
  },
  {
   "cell_type": "code",
   "execution_count": 20,
   "id": "5fa3047a",
   "metadata": {},
   "outputs": [
    {
     "name": "stdout",
     "output_type": "stream",
     "text": [
      "['radhika', 'asna', 'diya', 'laiba', 'sanuba', 'prial', 'riya']\n"
     ]
    }
   ],
   "source": [
    "print(students)"
   ]
  },
  {
   "cell_type": "code",
   "execution_count": null,
   "id": "11857acc",
   "metadata": {},
   "outputs": [],
   "source": [
    "#req: I want to modify Diya name to 'Arshaan'"
   ]
  },
  {
   "cell_type": "code",
   "execution_count": 21,
   "id": "cbc9a790",
   "metadata": {},
   "outputs": [
    {
     "name": "stdout",
     "output_type": "stream",
     "text": [
      "diya\n"
     ]
    }
   ],
   "source": [
    "print(students[2])"
   ]
  },
  {
   "cell_type": "code",
   "execution_count": 22,
   "id": "20a41340",
   "metadata": {},
   "outputs": [],
   "source": [
    "students[2] = 'Arshaan'"
   ]
  },
  {
   "cell_type": "code",
   "execution_count": 24,
   "id": "1f624a9f",
   "metadata": {},
   "outputs": [
    {
     "name": "stdout",
     "output_type": "stream",
     "text": [
      "Arshaan\n"
     ]
    }
   ],
   "source": [
    "print(students[2])"
   ]
  },
  {
   "cell_type": "code",
   "execution_count": 25,
   "id": "beccbbf6",
   "metadata": {},
   "outputs": [
    {
     "name": "stdout",
     "output_type": "stream",
     "text": [
      "['radhika', 'asna', 'Arshaan', 'laiba', 'sanuba', 'prial', 'riya']\n"
     ]
    }
   ],
   "source": [
    "print(students)"
   ]
  },
  {
   "cell_type": "code",
   "execution_count": null,
   "id": "edd2a4b3",
   "metadata": {},
   "outputs": [],
   "source": []
  },
  {
   "cell_type": "code",
   "execution_count": null,
   "id": "dec9df8e",
   "metadata": {},
   "outputs": [],
   "source": [
    "#req: How to delete elements in list?"
   ]
  },
  {
   "cell_type": "code",
   "execution_count": 26,
   "id": "b8d3c933",
   "metadata": {},
   "outputs": [
    {
     "name": "stdout",
     "output_type": "stream",
     "text": [
      "['radhika', 'asna', 'Arshaan', 'laiba', 'sanuba', 'prial', 'riya']\n"
     ]
    }
   ],
   "source": [
    "print(students)"
   ]
  },
  {
   "cell_type": "code",
   "execution_count": null,
   "id": "708c1754",
   "metadata": {},
   "outputs": [],
   "source": [
    "I want to delete Laiba from te above list,how will I do it?"
   ]
  },
  {
   "cell_type": "code",
   "execution_count": 27,
   "id": "16f422cb",
   "metadata": {},
   "outputs": [],
   "source": [
    "del students[3]"
   ]
  },
  {
   "cell_type": "code",
   "execution_count": 28,
   "id": "0fba84a9",
   "metadata": {},
   "outputs": [
    {
     "name": "stdout",
     "output_type": "stream",
     "text": [
      "['radhika', 'asna', 'Arshaan', 'sanuba', 'prial', 'riya']\n"
     ]
    }
   ],
   "source": [
    "print(students)"
   ]
  },
  {
   "cell_type": "code",
   "execution_count": null,
   "id": "82b5ce16",
   "metadata": {},
   "outputs": [],
   "source": []
  },
  {
   "cell_type": "code",
   "execution_count": null,
   "id": "6f48ab4e",
   "metadata": {},
   "outputs": [],
   "source": []
  },
  {
   "cell_type": "code",
   "execution_count": null,
   "id": "cadb38d9",
   "metadata": {},
   "outputs": [],
   "source": []
  },
  {
   "cell_type": "code",
   "execution_count": null,
   "id": "2c98a712",
   "metadata": {},
   "outputs": [],
   "source": []
  },
  {
   "cell_type": "code",
   "execution_count": null,
   "id": "2fad2155",
   "metadata": {},
   "outputs": [],
   "source": []
  },
  {
   "cell_type": "code",
   "execution_count": null,
   "id": "33e0728d",
   "metadata": {},
   "outputs": [],
   "source": []
  },
  {
   "cell_type": "code",
   "execution_count": null,
   "id": "0a206fe6",
   "metadata": {},
   "outputs": [],
   "source": []
  },
  {
   "cell_type": "code",
   "execution_count": null,
   "id": "94fafeba",
   "metadata": {},
   "outputs": [],
   "source": []
  },
  {
   "cell_type": "code",
   "execution_count": null,
   "id": "d5722c1f",
   "metadata": {},
   "outputs": [],
   "source": []
  },
  {
   "cell_type": "code",
   "execution_count": null,
   "id": "af1d0d24",
   "metadata": {},
   "outputs": [],
   "source": []
  },
  {
   "cell_type": "code",
   "execution_count": null,
   "id": "d9d6c59e",
   "metadata": {},
   "outputs": [],
   "source": []
  },
  {
   "cell_type": "code",
   "execution_count": null,
   "id": "d0997032",
   "metadata": {},
   "outputs": [],
   "source": []
  },
  {
   "cell_type": "code",
   "execution_count": null,
   "id": "fc2b7ce7",
   "metadata": {},
   "outputs": [],
   "source": []
  },
  {
   "cell_type": "code",
   "execution_count": null,
   "id": "77a3c618",
   "metadata": {},
   "outputs": [],
   "source": []
  },
  {
   "cell_type": "code",
   "execution_count": null,
   "id": "d7b959b3",
   "metadata": {},
   "outputs": [],
   "source": []
  }
 ],
 "metadata": {
  "kernelspec": {
   "display_name": "Python 3 (ipykernel)",
   "language": "python",
   "name": "python3"
  },
  "language_info": {
   "codemirror_mode": {
    "name": "ipython",
    "version": 3
   },
   "file_extension": ".py",
   "mimetype": "text/x-python",
   "name": "python",
   "nbconvert_exporter": "python",
   "pygments_lexer": "ipython3",
   "version": "3.9.12"
  }
 },
 "nbformat": 4,
 "nbformat_minor": 5
}
