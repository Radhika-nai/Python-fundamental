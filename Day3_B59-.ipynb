{
 "cells": [
  {
   "cell_type": "code",
   "execution_count": null,
   "id": "a12289a8",
   "metadata": {},
   "outputs": [],
   "source": [
    "continuation with strings :\n"
   ]
  },
  {
   "cell_type": "code",
   "execution_count": null,
   "id": "fd6f030f",
   "metadata": {},
   "outputs": [],
   "source": [
    "Introduction to strings-"
   ]
  },
  {
   "cell_type": "code",
   "execution_count": 1,
   "id": "3305f51c",
   "metadata": {},
   "outputs": [
    {
     "name": "stdout",
     "output_type": "stream",
     "text": [
      "Radhika\n"
     ]
    }
   ],
   "source": [
    "name= \"Radhika\"\n",
    "print (name)"
   ]
  },
  {
   "cell_type": "code",
   "execution_count": null,
   "id": "fae89770",
   "metadata": {},
   "outputs": [],
   "source": [
    "how to know the datatype?"
   ]
  },
  {
   "cell_type": "code",
   "execution_count": 2,
   "id": "71acc91d",
   "metadata": {},
   "outputs": [
    {
     "data": {
      "text/plain": [
       "str"
      ]
     },
     "execution_count": 2,
     "metadata": {},
     "output_type": "execute_result"
    }
   ],
   "source": [
    "type(name)"
   ]
  },
  {
   "cell_type": "raw",
   "id": "6ea9411c",
   "metadata": {},
   "source": [
    "string ----- str"
   ]
  },
  {
   "cell_type": "code",
   "execution_count": null,
   "id": "4a68ffec",
   "metadata": {},
   "outputs": [],
   "source": []
  },
  {
   "cell_type": "code",
   "execution_count": 3,
   "id": "33391232",
   "metadata": {},
   "outputs": [
    {
     "name": "stdout",
     "output_type": "stream",
     "text": [
      "radhika\n"
     ]
    }
   ],
   "source": [
    "name1=\"radhika\"\n",
    "print (name1)"
   ]
  },
  {
   "cell_type": "code",
   "execution_count": 4,
   "id": "d2fe3e74",
   "metadata": {},
   "outputs": [
    {
     "data": {
      "text/plain": [
       "str"
      ]
     },
     "execution_count": 4,
     "metadata": {},
     "output_type": "execute_result"
    }
   ],
   "source": [
    "type(name1)"
   ]
  },
  {
   "cell_type": "code",
   "execution_count": null,
   "id": "1e2557a4",
   "metadata": {},
   "outputs": [],
   "source": []
  },
  {
   "cell_type": "code",
   "execution_count": 6,
   "id": "0c5b2e48",
   "metadata": {},
   "outputs": [
    {
     "name": "stdout",
     "output_type": "stream",
     "text": [
      " radhika nair\n"
     ]
    }
   ],
   "source": [
    "fullname= \" radhika nair\"\n",
    "print (fullname)"
   ]
  },
  {
   "cell_type": "code",
   "execution_count": 7,
   "id": "2728533e",
   "metadata": {},
   "outputs": [
    {
     "name": "stdout",
     "output_type": "stream",
     "text": [
      " Radhika Nair\n"
     ]
    }
   ],
   "source": [
    "print(fullname.title())"
   ]
  },
  {
   "cell_type": "code",
   "execution_count": null,
   "id": "642c8c7b",
   "metadata": {},
   "outputs": [],
   "source": [
    "The above instruction for capiltalize the first letters"
   ]
  },
  {
   "cell_type": "code",
   "execution_count": null,
   "id": "02514687",
   "metadata": {},
   "outputs": [],
   "source": [
    "#req : i want to get fullname in all capital letters-"
   ]
  },
  {
   "cell_type": "code",
   "execution_count": 8,
   "id": "a5c8d500",
   "metadata": {},
   "outputs": [
    {
     "name": "stdout",
     "output_type": "stream",
     "text": [
      " RADHIKA NAIR\n"
     ]
    }
   ],
   "source": [
    "print(fullname.upper())"
   ]
  },
  {
   "cell_type": "code",
   "execution_count": null,
   "id": "333c5e71",
   "metadata": {},
   "outputs": [],
   "source": []
  },
  {
   "cell_type": "code",
   "execution_count": null,
   "id": "1cac5bba",
   "metadata": {},
   "outputs": [],
   "source": [
    "#req : I want to get fullname is small case letters-"
   ]
  },
  {
   "cell_type": "code",
   "execution_count": 9,
   "id": "4ec9286f",
   "metadata": {},
   "outputs": [
    {
     "name": "stdout",
     "output_type": "stream",
     "text": [
      " radhika nair\n"
     ]
    }
   ],
   "source": [
    "print(fullname.lower())"
   ]
  },
  {
   "cell_type": "code",
   "execution_count": null,
   "id": "999a266b",
   "metadata": {},
   "outputs": [],
   "source": [
    "Introduction to f strings :"
   ]
  },
  {
   "cell_type": "code",
   "execution_count": null,
   "id": "4fc20a9a",
   "metadata": {},
   "outputs": [],
   "source": [
    "1. General syntax (formula) for f strings:"
   ]
  },
  {
   "cell_type": "code",
   "execution_count": null,
   "id": "8225e545",
   "metadata": {},
   "outputs": [],
   "source": [
    "f\" custom message {placeholder1} {placeholder2}......{placeholder...n}----general formula"
   ]
  },
  {
   "cell_type": "code",
   "execution_count": null,
   "id": "b8865451",
   "metadata": {},
   "outputs": [],
   "source": []
  },
  {
   "cell_type": "code",
   "execution_count": null,
   "id": "80af2b54",
   "metadata": {},
   "outputs": [],
   "source": [
    "firstname= 'radhika'\n",
    "lastname= 'nair'"
   ]
  },
  {
   "cell_type": "code",
   "execution_count": null,
   "id": "01fd6c1c",
   "metadata": {},
   "outputs": [],
   "source": [
    "#req :  get the full name (individual things joined)"
   ]
  },
  {
   "cell_type": "code",
   "execution_count": 20,
   "id": "9d3af096",
   "metadata": {},
   "outputs": [
    {
     "ename": "NameError",
     "evalue": "name 'firstname' is not defined",
     "output_type": "error",
     "traceback": [
      "\u001b[1;31m---------------------------------------------------------------------------\u001b[0m",
      "\u001b[1;31mNameError\u001b[0m                                 Traceback (most recent call last)",
      "Input \u001b[1;32mIn [20]\u001b[0m, in \u001b[0;36m<cell line: 1>\u001b[1;34m()\u001b[0m\n\u001b[1;32m----> 1\u001b[0m full_name \u001b[38;5;241m=\u001b[39m \u001b[38;5;124mf\u001b[39m\u001b[38;5;124m\"\u001b[39m\u001b[38;5;124m \u001b[39m\u001b[38;5;132;01m{\u001b[39;00mfirstname\u001b[38;5;132;01m}\u001b[39;00m\u001b[38;5;124m  \u001b[39m\u001b[38;5;132;01m{\u001b[39;00mlastname\u001b[38;5;132;01m}\u001b[39;00m\u001b[38;5;124m\"\u001b[39m\n\u001b[0;32m      2\u001b[0m \u001b[38;5;28mprint\u001b[39m(full_name)\n",
      "\u001b[1;31mNameError\u001b[0m: name 'firstname' is not defined"
     ]
    }
   ],
   "source": [
    "full_name = f\" {firstname}  {lastname}\"\n",
    "print(full_name)"
   ]
  },
  {
   "cell_type": "code",
   "execution_count": 16,
   "id": "2aa32b41",
   "metadata": {},
   "outputs": [
    {
     "name": "stdout",
     "output_type": "stream",
     "text": [
      " {Firstname} {Lastname}\n"
     ]
    }
   ],
   "source": [
    "print(full_name.title())"
   ]
  },
  {
   "cell_type": "code",
   "execution_count": null,
   "id": "66eb386f",
   "metadata": {},
   "outputs": [],
   "source": []
  },
  {
   "cell_type": "code",
   "execution_count": 18,
   "id": "54a4dd83",
   "metadata": {},
   "outputs": [
    {
     "ename": "SyntaxError",
     "evalue": "EOL while scanning string literal (3549435123.py, line 1)",
     "output_type": "error",
     "traceback": [
      "\u001b[1;36m  Input \u001b[1;32mIn [18]\u001b[1;36m\u001b[0m\n\u001b[1;33m    message = f\"keep up the good work, {full_name.title()}\u001b[0m\n\u001b[1;37m                                                          ^\u001b[0m\n\u001b[1;31mSyntaxError\u001b[0m\u001b[1;31m:\u001b[0m EOL while scanning string literal\n"
     ]
    }
   ],
   "source": [
    "message = f\"keep up the good work, {full_name.title()}\n",
    "print(message)"
   ]
  },
  {
   "cell_type": "code",
   "execution_count": null,
   "id": "138f3cbe",
   "metadata": {},
   "outputs": [],
   "source": []
  },
  {
   "cell_type": "code",
   "execution_count": null,
   "id": "5a7ffa94",
   "metadata": {},
   "outputs": [],
   "source": []
  },
  {
   "cell_type": "code",
   "execution_count": null,
   "id": "d334d78d",
   "metadata": {},
   "outputs": [],
   "source": [
    "Adding whitespaces to strings:"
   ]
  },
  {
   "cell_type": "code",
   "execution_count": null,
   "id": "bb715a65",
   "metadata": {},
   "outputs": [],
   "source": [
    "#req : aconduced survey and student has to choose fav subject"
   ]
  },
  {
   "cell_type": "code",
   "execution_count": 21,
   "id": "a60b7033",
   "metadata": {},
   "outputs": [
    {
     "name": "stdout",
     "output_type": "stream",
     "text": [
      "favorite_language:pythonC++javacpascalcobal\n"
     ]
    }
   ],
   "source": [
    "print('favorite_language:pythonC++javacpascalcobal')"
   ]
  },
  {
   "cell_type": "code",
   "execution_count": 22,
   "id": "fa9485d0",
   "metadata": {},
   "outputs": [
    {
     "name": "stdout",
     "output_type": "stream",
     "text": [
      "favorite_language:\n",
      "python\n",
      "C++\n",
      "java\n",
      "c\n",
      "pascal\n",
      "cobal\n"
     ]
    }
   ],
   "source": [
    "print('favorite_language:\\npython\\nC++\\njava\\nc\\npascal\\ncobal')"
   ]
  },
  {
   "cell_type": "code",
   "execution_count": null,
   "id": "d293f532",
   "metadata": {},
   "outputs": [],
   "source": [
    "\\n is callled as new line delinker, print will be in  the new line"
   ]
  },
  {
   "cell_type": "code",
   "execution_count": 23,
   "id": "e4b7174c",
   "metadata": {},
   "outputs": [
    {
     "name": "stdout",
     "output_type": "stream",
     "text": [
      "favorite_language:\n",
      "\tpython\n",
      "\tC++\n",
      "\tjava\n",
      "\tc\n",
      "\tpascal\n",
      "\tcobal\n"
     ]
    }
   ],
   "source": [
    "print ('favorite_language:\\n\\tpython\\n\\tC++\\n\\tjava\\n\\tc\\n\\tpascal\\n\\tcobal')"
   ]
  },
  {
   "cell_type": "code",
   "execution_count": null,
   "id": "db6b5f18",
   "metadata": {},
   "outputs": [],
   "source": [
    "\\t is called tab delimiter"
   ]
  },
  {
   "cell_type": "code",
   "execution_count": null,
   "id": "3358642c",
   "metadata": {},
   "outputs": [],
   "source": []
  },
  {
   "cell_type": "code",
   "execution_count": null,
   "id": "92e9bbb9",
   "metadata": {},
   "outputs": [],
   "source": []
  },
  {
   "cell_type": "code",
   "execution_count": null,
   "id": "351ee092",
   "metadata": {},
   "outputs": [],
   "source": []
  },
  {
   "cell_type": "code",
   "execution_count": null,
   "id": "c5f1edd4",
   "metadata": {},
   "outputs": [],
   "source": []
  },
  {
   "cell_type": "code",
   "execution_count": null,
   "id": "d71ba1e3",
   "metadata": {},
   "outputs": [],
   "source": []
  },
  {
   "cell_type": "code",
   "execution_count": null,
   "id": "a9c0af1e",
   "metadata": {},
   "outputs": [],
   "source": []
  },
  {
   "cell_type": "code",
   "execution_count": null,
   "id": "7c5d08ca",
   "metadata": {},
   "outputs": [],
   "source": []
  },
  {
   "cell_type": "code",
   "execution_count": null,
   "id": "c451bb35",
   "metadata": {},
   "outputs": [],
   "source": []
  }
 ],
 "metadata": {
  "kernelspec": {
   "display_name": "Python 3 (ipykernel)",
   "language": "python",
   "name": "python3"
  },
  "language_info": {
   "codemirror_mode": {
    "name": "ipython",
    "version": 3
   },
   "file_extension": ".py",
   "mimetype": "text/x-python",
   "name": "python",
   "nbconvert_exporter": "python",
   "pygments_lexer": "ipython3",
   "version": "3.9.12"
  }
 },
 "nbformat": 4,
 "nbformat_minor": 5
}
